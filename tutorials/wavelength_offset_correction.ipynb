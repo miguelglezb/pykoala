{
 "cells": [
  {
   "cell_type": "markdown",
   "metadata": {},
   "source": [
    "CAVEAT: NOTEBOOK UNDER CONSTRUCTION"
   ]
  },
  {
   "cell_type": "markdown",
   "metadata": {},
   "source": [
    "# Wavelength offset corrections\n",
    "\n",
    "The wavelength calibration of spectroscopic data is usually based on spectral lamp exposures with known emission lines. Although the calibration may achieve very accurate results, there are some issues that could affect the final calibration of the scientific data. For example:\n",
    "- The optical path between the lamps and the on-sky sources is different.\n",
    "- The number of emission lines detected in the exposure frame is insufficient for deriving a robust calibration.\n",
    "- The modelling of the spectral distorsion does not capture all the complexities of an instrument.\n",
    "\n",
    "These potential issues may result into an inhomogeneous wavelength calibration of IFS data. Correcting for systematic offsets between fibres, as well as different profiles of the instrumental LSF, is key for performing detailed scientific analyses (e.g., gas/stellar kinematics).\n",
    "\n",
    "This notebook illustrates how can `pykoala` deal with these issues by using a `WavelengthCorrection` module that allows to account for fibre-to-fibre differences and also applying additional absolute calibrations."
   ]
  },
  {
   "cell_type": "markdown",
   "metadata": {},
   "source": [
    "## Twilight-based wavelength corretion offset\n",
    "\n",
    "One of the most relaiable calibration frames for performing a wavelength correction are the twilight flats. Ideally, these frames are completely dominated by the Sun light, that illuminates homogeneously the focal plane of the instrument. The main advantage consists of the use of the solar absorption features to perform a cross-match with some reference spectra and extract the underlying offsets on each fibre.\n",
    "\n",
    "In a nutshell, the current implemented algorithm performs the following steps:\n",
    "- Identification of absorption features in the reference solar spectra in the wavelength range covered by the twilight frame.\n",
    "- Computation of an array of weights based on the previous step, which allows the fitting to solely focus on those regions of interest.\n",
    "- Estimation of a pseudo spectral response function to correct the observed data and exclude the regions dominated by telluric absorption lines.\n",
    "- Computation of a grid of solar spectra models with varying wavelength offsets and LSF widths (assuming a gaussian profile).\n",
    "- Determination of the best fit spectra.\n",
    "\n",
    "The first step then, is to read the twilight RSS frames:"
   ]
  },
  {
   "cell_type": "code",
   "execution_count": null,
   "metadata": {},
   "outputs": [],
   "source": [
    "from pykoala.instruments.koala_ifu import koala_rss\n",
    "\n",
    "twilight_rss = koala_rss(\"data/koala/580V/27feb10012red.fits\")"
   ]
  },
  {
   "cell_type": "markdown",
   "metadata": {},
   "source": [
    "Now we can import the `SolarCrossCorrOffset` correction from the `wavelength` correction module. To build this correction we can provide a file containing the reference spectra in a FITS or a text file (details on the documentation). Alternatively, we can simply initialize the correction by providing an array of wavelengths and flux (referred to as intensity).\n",
    "\n",
    "For this tutorial, we will be using the Sun spectra model available at [CALSPEC](https://www.stsci.edu/hst/instrumentation/reference-data-for-calibration-and-tools/astronomical-catalogs/calspec), based on the Kurutz stellar library."
   ]
  },
  {
   "cell_type": "code",
   "execution_count": null,
   "metadata": {},
   "outputs": [],
   "source": [
    "from pykoala.corrections.wavelength import SolarCrossCorrOffset\n",
    "\n",
    "solar_correction = SolarCrossCorrOffset.from_fits()"
   ]
  },
  {
   "cell_type": "markdown",
   "metadata": {},
   "source": [
    "Let's also import some convenience function for plotting the results"
   ]
  },
  {
   "cell_type": "code",
   "execution_count": null,
   "metadata": {},
   "outputs": [],
   "source": [
    "import numpy as np\n",
    "from matplotlib import pyplot as plt\n",
    "from pykoala.plotting.utils import fibre_map"
   ]
  },
  {
   "cell_type": "markdown",
   "metadata": {},
   "source": [
    "Then, we can start the cross-correlation with our twilight frame.\n",
    "\n",
    "For this step, we can make use of the method `compute_shift_from_twilight`, which performs an automatic cross-correlation following the steps mentioned above.\n",
    "\n",
    "There are a few parameters that can be modified to further tune the cross-correlation process:\n",
    "- sun_window_size_aa: This parameter is used for identifying the regions that are most affected by absorption features in the solar reference spectra. The continuum is estimated by means of a median filter with uses this variable as window size.\n",
    "- keep_features_frac: Fraction of the initial guess of valid pixels (dominated by solar absorption lines) to keep for the fit.\n",
    "- response_window_size_aa: Median filter size for estimating the spectrograph response function and reducing the effect of telluric absorption lines.\n",
    "\n",
    "If instead of using the whole wavelength range, we are interested in using a limited regions (e.g., aroung the CaII triplet in the NIR) we can provide a\n",
    "- wave_range: [8410, 8700]\n",
    "\n",
    "Finally, the accuracy of the cross-correlation will depend on the amount of models that are computed. This can of course have a significant impact on the performance of the algorith. The parameters that control this are:\n",
    "\n",
    "- pix_shift_array: np.arange(-5, 5, 0.1)\n",
    "\n",
    "To include the desired array of bins for modelling the wavelength shifts in the pixel space. As a rule of thumb, a good spectral calibration can reach an accuracy of a 10th of a pixel, optimal grids shouldn't be finner than that.\n",
    "\n",
    "- pix_std_array\n",
    "\n",
    "To select the range of values of the instrumental LSF standard deviation.\n",
    "\n",
    "We can also provide a list of fibres to inspec, producing individual plots, and assess the quality of the fit."
   ]
  },
  {
   "cell_type": "code",
   "execution_count": null,
   "metadata": {},
   "outputs": [],
   "source": [
    "shift, sigma = solar_correction.compute_shift_from_twilight(\n",
    "    twilight_rss, keep_features_frac=0.05,\n",
    "    logspace=False, inspect_fibres=[100, 400, 700, 900])"
   ]
  },
  {
   "cell_type": "markdown",
   "metadata": {},
   "source": [
    "Let's now plot the distribution of offsets as function of fibre location"
   ]
  },
  {
   "cell_type": "code",
   "execution_count": null,
   "metadata": {},
   "outputs": [],
   "source": [
    "fig, axs = plt.subplots(ncols=2, constrained_layout=True, sharex=True, sharey=True,\n",
    "                        figsize=(8, 4))\n",
    "fibre_map(fig, axs[0], r'$\\Delta\\lambda$ (pix)', twilight_rss, shift, norm=plt.Normalize(),\n",
    "          cmap='gnuplot')\n",
    "fibre_map(fig, axs[1], r'$\\sigma$ (pix)', twilight_rss, sigma, norm=plt.Normalize(),\n",
    "          cmap='gnuplot')"
   ]
  },
  {
   "cell_type": "markdown",
   "metadata": {},
   "source": [
    "If we are happy with the result, we can then correct our RSS data by applying the correction:"
   ]
  },
  {
   "cell_type": "code",
   "execution_count": null,
   "metadata": {},
   "outputs": [],
   "source": [
    "twilight_rss_corrected = solar_correction.apply(twilight_rss)"
   ]
  },
  {
   "cell_type": "code",
   "execution_count": null,
   "metadata": {},
   "outputs": [],
   "source": [
    "wave_range = [3923, 3943]\n",
    "vmax = 15000\n",
    "plt.figure()\n",
    "plt.subplot(121)\n",
    "plt.pcolormesh(twilight_rss.wavelength,\n",
    "               np.arange(1, twilight_rss.intensity.shape[0] + 1),\n",
    "               twilight_rss.intensity, vmin=0, vmax=vmax)\n",
    "plt.axvline(5577.0, color='r')\n",
    "plt.colorbar()\n",
    "plt.xlim(wave_range)\n",
    "plt.subplot(122)\n",
    "plt.pcolormesh(twilight_rss_corrected.wavelength,\n",
    "               np.arange(1, twilight_rss_corrected.intensity.shape[0] + 1),\n",
    "               twilight_rss_corrected.intensity, vmin=0, vmax=vmax)\n",
    "plt.colorbar()\n",
    "plt.axvline(5577.0, color='r')\n",
    "plt.xlim(wave_range)"
   ]
  }
 ],
 "metadata": {
  "language_info": {
   "name": "python"
  }
 },
 "nbformat": 4,
 "nbformat_minor": 2
}
